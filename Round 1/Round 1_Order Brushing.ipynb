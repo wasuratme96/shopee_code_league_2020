{
 "cells": [
  {
   "cell_type": "markdown",
   "metadata": {},
   "source": [
    "# Order Brushing - Data Analysis\n",
    "Shopee code league round 1"
   ]
  },
  {
   "cell_type": "markdown",
   "metadata": {},
   "source": [
    "### Given Assumption and Definition \n",
    "- Brushing shop = concentrate rate greater of equal to 3 at any instances\n",
    "- Concentrate rate = Number of orders within 1 hour/ Number of unique Buyers within 1 hours\n",
    "- Brushing buyer = buyer that contributed the ```highest proportion of orders to a shop```\n",
    "- Highest proportion of orders should include the ordres that occured in instances when brushing"
   ]
  },
  {
   "cell_type": "markdown",
   "metadata": {},
   "source": [
    "### Basic Concepts\n",
    "- Each ```orderid``` represnets a distinct transation on Shopee.\n",
    "- Each unique ```shopid``` is a distinct seller on Shopee.\n",
    "- Each unique ```userid``` ia a distinct buyer on Shopee.\n",
    "- Event time refers to the exact time that an order was replaced on Shopee."
   ]
  },
  {
   "cell_type": "code",
   "execution_count": 1,
   "metadata": {},
   "outputs": [],
   "source": [
    "import pandas as pd"
   ]
  },
  {
   "cell_type": "code",
   "execution_count": 2,
   "metadata": {},
   "outputs": [],
   "source": [
    "df = pd.read_csv('order_brush_order.csv')"
   ]
  },
  {
   "cell_type": "code",
   "execution_count": 3,
   "metadata": {},
   "outputs": [
    {
     "data": {
      "text/plain": [
       "Index(['orderid', 'shopid', 'userid', 'event_time'], dtype='object')"
      ]
     },
     "execution_count": 3,
     "metadata": {},
     "output_type": "execute_result"
    }
   ],
   "source": [
    "df.columns"
   ]
  },
  {
   "cell_type": "code",
   "execution_count": 4,
   "metadata": {},
   "outputs": [
    {
     "data": {
      "text/html": [
       "<div>\n",
       "<style scoped>\n",
       "    .dataframe tbody tr th:only-of-type {\n",
       "        vertical-align: middle;\n",
       "    }\n",
       "\n",
       "    .dataframe tbody tr th {\n",
       "        vertical-align: top;\n",
       "    }\n",
       "\n",
       "    .dataframe thead th {\n",
       "        text-align: right;\n",
       "    }\n",
       "</style>\n",
       "<table border=\"1\" class=\"dataframe\">\n",
       "  <thead>\n",
       "    <tr style=\"text-align: right;\">\n",
       "      <th></th>\n",
       "      <th>orderid</th>\n",
       "      <th>shopid</th>\n",
       "      <th>userid</th>\n",
       "      <th>event_time</th>\n",
       "    </tr>\n",
       "  </thead>\n",
       "  <tbody>\n",
       "    <tr>\n",
       "      <td>0</td>\n",
       "      <td>31076582227611</td>\n",
       "      <td>93950878</td>\n",
       "      <td>30530270</td>\n",
       "      <td>2019-12-27 00:23:03</td>\n",
       "    </tr>\n",
       "    <tr>\n",
       "      <td>1</td>\n",
       "      <td>31118059853484</td>\n",
       "      <td>156423439</td>\n",
       "      <td>46057927</td>\n",
       "      <td>2019-12-27 11:54:20</td>\n",
       "    </tr>\n",
       "    <tr>\n",
       "      <td>2</td>\n",
       "      <td>31123355095755</td>\n",
       "      <td>173699291</td>\n",
       "      <td>67341739</td>\n",
       "      <td>2019-12-27 13:22:35</td>\n",
       "    </tr>\n",
       "    <tr>\n",
       "      <td>3</td>\n",
       "      <td>31122059872723</td>\n",
       "      <td>63674025</td>\n",
       "      <td>149380322</td>\n",
       "      <td>2019-12-27 13:01:00</td>\n",
       "    </tr>\n",
       "    <tr>\n",
       "      <td>4</td>\n",
       "      <td>31117075665123</td>\n",
       "      <td>127249066</td>\n",
       "      <td>149493217</td>\n",
       "      <td>2019-12-27 11:37:55</td>\n",
       "    </tr>\n",
       "  </tbody>\n",
       "</table>\n",
       "</div>"
      ],
      "text/plain": [
       "          orderid     shopid     userid           event_time\n",
       "0  31076582227611   93950878   30530270  2019-12-27 00:23:03\n",
       "1  31118059853484  156423439   46057927  2019-12-27 11:54:20\n",
       "2  31123355095755  173699291   67341739  2019-12-27 13:22:35\n",
       "3  31122059872723   63674025  149380322  2019-12-27 13:01:00\n",
       "4  31117075665123  127249066  149493217  2019-12-27 11:37:55"
      ]
     },
     "execution_count": 4,
     "metadata": {},
     "output_type": "execute_result"
    }
   ],
   "source": [
    "df.head(5)"
   ]
  },
  {
   "cell_type": "code",
   "execution_count": 5,
   "metadata": {},
   "outputs": [],
   "source": [
    "df['event_time'] = pd.to_datetime(df['event_time'])"
   ]
  },
  {
   "cell_type": "code",
   "execution_count": 6,
   "metadata": {},
   "outputs": [
    {
     "data": {
      "text/plain": [
       "(222750, 4)"
      ]
     },
     "execution_count": 6,
     "metadata": {},
     "output_type": "execute_result"
    }
   ],
   "source": [
    "df.shape"
   ]
  },
  {
   "cell_type": "code",
   "execution_count": 7,
   "metadata": {},
   "outputs": [
    {
     "data": {
      "text/plain": [
       "orderid       0\n",
       "shopid        0\n",
       "userid        0\n",
       "event_time    0\n",
       "dtype: int64"
      ]
     },
     "execution_count": 7,
     "metadata": {},
     "output_type": "execute_result"
    }
   ],
   "source": [
    "df.isna().sum()"
   ]
  },
  {
   "cell_type": "code",
   "execution_count": 8,
   "metadata": {},
   "outputs": [],
   "source": [
    "def get_sorted_unique_by_column_name(column_name):\n",
    "    t = df[column_name].unique()\n",
    "    t.sort()\n",
    "    return t\n",
    "\n",
    "unique_shop_ids = get_sorted_unique_by_column_name('shopid')"
   ]
  },
  {
   "cell_type": "code",
   "execution_count": 9,
   "metadata": {},
   "outputs": [],
   "source": [
    "groupby_shop_id_df = df.groupby('shopid')"
   ]
  },
  {
   "cell_type": "code",
   "execution_count": 10,
   "metadata": {},
   "outputs": [],
   "source": [
    "def get_1hour_window(t):\n",
    "    return t + pd.Timedelta(hours = 1)"
   ]
  },
  {
   "cell_type": "code",
   "execution_count": 32,
   "metadata": {},
   "outputs": [],
   "source": [
    "def get_time_range_to_brushing_user_ids_to_max_number_of_orders_pair(same_shop_id_df, time_range):\n",
    "    (lower_time, upper_time) = time_range\n",
    "    windowed_df = same_shop_id_df[(lower_time <= same_shop_id_df['event_time']) & (same_shop_id_df['event_time'] <= upper_time)]\n",
    "    \n",
    "    number_of_orders = len(windowed_df)\n",
    "    unique_user_ids = windowed_df['userid'].unique()\n",
    "    \n",
    "    if float(number_of_orders)/ float(len(unique_user_ids)) >= 3.0:\n",
    "        user_id_to_number_of_orders_pairs = [\n",
    "            (user_id, len(windowed_df[windowed_df['userid'] == user_id]))\n",
    "            \n",
    "            for user_id in unique_user_ids \n",
    "        ]\n",
    "        \n",
    "        max_number_of_orders = max([\n",
    "            number_of_orders\n",
    "            \n",
    "            for _, number_of_orders\n",
    "            in user_id_to_number_of_orders_pairs\n",
    "        ])\n",
    "        \n",
    "        brushing_user_ids = [\n",
    "            user_id\n",
    "            \n",
    "            for user_id, number_of_orders\n",
    "            in user_id_to_number_of_orders_pairs\n",
    "            if number_of_orders == max_number_of_orders\n",
    "        ]\n",
    "        return (time_range, brushing_user_ids, max_number_of_orders)\n",
    "    else:\n",
    "        return (time_range, [], 0)"
   ]
  },
  {
   "cell_type": "code",
   "execution_count": 33,
   "metadata": {},
   "outputs": [],
   "source": [
    "def flatten(list_of_list):\n",
    "    return [val for sublist in list_of_list for val in sublist]"
   ]
  },
  {
   "cell_type": "code",
   "execution_count": 34,
   "metadata": {},
   "outputs": [],
   "source": [
    "def get_brushing_use_id_by_shop_id(shop_id):\n",
    "    same_shop_id = groupby_shop_id_df.get_group(shop_id)\n",
    "    \n",
    "    time_ranges = [\n",
    "        (event_time, get_1hour_window(event_time))\n",
    "        for event_time in same_shop_id['event_time']\n",
    "    ]\n",
    "    \n",
    "    time_ranges_to_brushing_use_ids_to_max_number = [\n",
    "        get_time_range_to_brushing_user_ids_to_max_number_of_orders_pair(\n",
    "            same_shop_id, time_range) for time_range in time_ranges  \n",
    "    ]\n",
    "    \n",
    "    ultimate_max_number_of_orders = max([\n",
    "        max_number_of_orders\n",
    "        \n",
    "        for _, _, max_number_of_orders\n",
    "        in time_ranges_to_brushing_use_ids_to_max_number]\n",
    "    )\n",
    "    \n",
    "    ultimate_brushing_user_ids = list(set(flatten([\n",
    "        brushing_user_ids\n",
    "        \n",
    "        for _, brushing_user_ids, max_number_of_orders\n",
    "        in time_ranges_to_brushing_use_ids_to_max_number\n",
    "        if max_number_of_orders == ultimate_max_number_of_orders\n",
    "    ])))\n",
    "    \n",
    "    ultimate_brushing_user_ids.sort()\n",
    "    \n",
    "    if len(ultimate_brushing_user_ids) > 0:\n",
    "        stringified_user_ids = [ \n",
    "            str(user_id) \n",
    "            for user_id in ultimate_brushing_user_ids\n",
    "        ]\n",
    "        return '&'.join(stringified_user_ids)\n",
    "    else:\n",
    "        return str(0)"
   ]
  },
  {
   "cell_type": "code",
   "execution_count": 35,
   "metadata": {},
   "outputs": [],
   "source": [
    "shop_id_brushing_use_ids_pairs = [\n",
    "    (shop_id, get_brushing_use_id_by_shop_id(shop_id))\n",
    "    for shop_id\n",
    "    in unique_shop_ids\n",
    "]"
   ]
  },
  {
   "cell_type": "code",
   "execution_count": 38,
   "metadata": {},
   "outputs": [],
   "source": [
    "result_df = pd.DataFrame(shop_id_brushing_use_ids_pairs, columns = ['shopid', 'userid'])"
   ]
  },
  {
   "cell_type": "code",
   "execution_count": 40,
   "metadata": {},
   "outputs": [
    {
     "data": {
      "text/html": [
       "<div>\n",
       "<style scoped>\n",
       "    .dataframe tbody tr th:only-of-type {\n",
       "        vertical-align: middle;\n",
       "    }\n",
       "\n",
       "    .dataframe tbody tr th {\n",
       "        vertical-align: top;\n",
       "    }\n",
       "\n",
       "    .dataframe thead th {\n",
       "        text-align: right;\n",
       "    }\n",
       "</style>\n",
       "<table border=\"1\" class=\"dataframe\">\n",
       "  <thead>\n",
       "    <tr style=\"text-align: right;\">\n",
       "      <th></th>\n",
       "      <th>shopid</th>\n",
       "      <th>userid</th>\n",
       "    </tr>\n",
       "  </thead>\n",
       "  <tbody>\n",
       "    <tr>\n",
       "      <td>0</td>\n",
       "      <td>10009</td>\n",
       "      <td>0</td>\n",
       "    </tr>\n",
       "    <tr>\n",
       "      <td>1</td>\n",
       "      <td>10051</td>\n",
       "      <td>0</td>\n",
       "    </tr>\n",
       "    <tr>\n",
       "      <td>2</td>\n",
       "      <td>10061</td>\n",
       "      <td>0</td>\n",
       "    </tr>\n",
       "    <tr>\n",
       "      <td>3</td>\n",
       "      <td>10084</td>\n",
       "      <td>0</td>\n",
       "    </tr>\n",
       "    <tr>\n",
       "      <td>4</td>\n",
       "      <td>10100</td>\n",
       "      <td>0</td>\n",
       "    </tr>\n",
       "  </tbody>\n",
       "</table>\n",
       "</div>"
      ],
      "text/plain": [
       "   shopid userid\n",
       "0   10009      0\n",
       "1   10051      0\n",
       "2   10061      0\n",
       "3   10084      0\n",
       "4   10100      0"
      ]
     },
     "execution_count": 40,
     "metadata": {},
     "output_type": "execute_result"
    }
   ],
   "source": [
    "result_df.head(5)"
   ]
  },
  {
   "cell_type": "code",
   "execution_count": 41,
   "metadata": {},
   "outputs": [
    {
     "data": {
      "text/html": [
       "<div>\n",
       "<style scoped>\n",
       "    .dataframe tbody tr th:only-of-type {\n",
       "        vertical-align: middle;\n",
       "    }\n",
       "\n",
       "    .dataframe tbody tr th {\n",
       "        vertical-align: top;\n",
       "    }\n",
       "\n",
       "    .dataframe thead th {\n",
       "        text-align: right;\n",
       "    }\n",
       "</style>\n",
       "<table border=\"1\" class=\"dataframe\">\n",
       "  <thead>\n",
       "    <tr style=\"text-align: right;\">\n",
       "      <th></th>\n",
       "      <th>shopid</th>\n",
       "      <th>userid</th>\n",
       "    </tr>\n",
       "  </thead>\n",
       "  <tbody>\n",
       "    <tr>\n",
       "      <td>0</td>\n",
       "      <td>10009</td>\n",
       "      <td>0</td>\n",
       "    </tr>\n",
       "    <tr>\n",
       "      <td>1</td>\n",
       "      <td>10051</td>\n",
       "      <td>0</td>\n",
       "    </tr>\n",
       "    <tr>\n",
       "      <td>2</td>\n",
       "      <td>10061</td>\n",
       "      <td>0</td>\n",
       "    </tr>\n",
       "    <tr>\n",
       "      <td>3</td>\n",
       "      <td>10084</td>\n",
       "      <td>0</td>\n",
       "    </tr>\n",
       "    <tr>\n",
       "      <td>4</td>\n",
       "      <td>10100</td>\n",
       "      <td>0</td>\n",
       "    </tr>\n",
       "  </tbody>\n",
       "</table>\n",
       "</div>"
      ],
      "text/plain": [
       "   shopid userid\n",
       "0   10009      0\n",
       "1   10051      0\n",
       "2   10061      0\n",
       "3   10084      0\n",
       "4   10100      0"
      ]
     },
     "execution_count": 41,
     "metadata": {},
     "output_type": "execute_result"
    }
   ],
   "source": [
    "result_df[result_df['userid'] == '0'].head(5)"
   ]
  },
  {
   "cell_type": "code",
   "execution_count": 43,
   "metadata": {},
   "outputs": [
    {
     "data": {
      "text/html": [
       "<div>\n",
       "<style scoped>\n",
       "    .dataframe tbody tr th:only-of-type {\n",
       "        vertical-align: middle;\n",
       "    }\n",
       "\n",
       "    .dataframe tbody tr th {\n",
       "        vertical-align: top;\n",
       "    }\n",
       "\n",
       "    .dataframe thead th {\n",
       "        text-align: right;\n",
       "    }\n",
       "</style>\n",
       "<table border=\"1\" class=\"dataframe\">\n",
       "  <thead>\n",
       "    <tr style=\"text-align: right;\">\n",
       "      <th></th>\n",
       "      <th>shopid</th>\n",
       "      <th>userid</th>\n",
       "    </tr>\n",
       "  </thead>\n",
       "  <tbody>\n",
       "    <tr>\n",
       "      <td>40</td>\n",
       "      <td>10402</td>\n",
       "      <td>77819</td>\n",
       "    </tr>\n",
       "    <tr>\n",
       "      <td>57</td>\n",
       "      <td>10536</td>\n",
       "      <td>672345</td>\n",
       "    </tr>\n",
       "    <tr>\n",
       "      <td>111</td>\n",
       "      <td>42472</td>\n",
       "      <td>740844</td>\n",
       "    </tr>\n",
       "    <tr>\n",
       "      <td>114</td>\n",
       "      <td>42818</td>\n",
       "      <td>170385453</td>\n",
       "    </tr>\n",
       "    <tr>\n",
       "      <td>129</td>\n",
       "      <td>76934</td>\n",
       "      <td>190449497</td>\n",
       "    </tr>\n",
       "  </tbody>\n",
       "</table>\n",
       "</div>"
      ],
      "text/plain": [
       "     shopid     userid\n",
       "40    10402      77819\n",
       "57    10536     672345\n",
       "111   42472     740844\n",
       "114   42818  170385453\n",
       "129   76934  190449497"
      ]
     },
     "execution_count": 43,
     "metadata": {},
     "output_type": "execute_result"
    }
   ],
   "source": [
    "result_df[(result_df['userid'] != '0')].head(5)"
   ]
  },
  {
   "cell_type": "code",
   "execution_count": 46,
   "metadata": {},
   "outputs": [
    {
     "data": {
      "text/html": [
       "<div>\n",
       "<style scoped>\n",
       "    .dataframe tbody tr th:only-of-type {\n",
       "        vertical-align: middle;\n",
       "    }\n",
       "\n",
       "    .dataframe tbody tr th {\n",
       "        vertical-align: top;\n",
       "    }\n",
       "\n",
       "    .dataframe thead th {\n",
       "        text-align: right;\n",
       "    }\n",
       "</style>\n",
       "<table border=\"1\" class=\"dataframe\">\n",
       "  <thead>\n",
       "    <tr style=\"text-align: right;\">\n",
       "      <th></th>\n",
       "      <th>shopid</th>\n",
       "      <th>userid</th>\n",
       "    </tr>\n",
       "  </thead>\n",
       "  <tbody>\n",
       "    <tr>\n",
       "      <td>3189</td>\n",
       "      <td>51134277</td>\n",
       "      <td>29857724&amp;212200633</td>\n",
       "    </tr>\n",
       "    <tr>\n",
       "      <td>3341</td>\n",
       "      <td>54257623</td>\n",
       "      <td>1974334&amp;107414154</td>\n",
       "    </tr>\n",
       "    <tr>\n",
       "      <td>9045</td>\n",
       "      <td>143281052</td>\n",
       "      <td>99517130&amp;186080843</td>\n",
       "    </tr>\n",
       "    <tr>\n",
       "      <td>9844</td>\n",
       "      <td>155143347</td>\n",
       "      <td>156202149&amp;214265994</td>\n",
       "    </tr>\n",
       "    <tr>\n",
       "      <td>10024</td>\n",
       "      <td>156883302</td>\n",
       "      <td>76102350&amp;188025647</td>\n",
       "    </tr>\n",
       "  </tbody>\n",
       "</table>\n",
       "</div>"
      ],
      "text/plain": [
       "          shopid               userid\n",
       "3189    51134277   29857724&212200633\n",
       "3341    54257623    1974334&107414154\n",
       "9045   143281052   99517130&186080843\n",
       "9844   155143347  156202149&214265994\n",
       "10024  156883302   76102350&188025647"
      ]
     },
     "execution_count": 46,
     "metadata": {},
     "output_type": "execute_result"
    }
   ],
   "source": [
    "result_df[result_df['userid'].str.contains('&')].head(5)"
   ]
  },
  {
   "cell_type": "code",
   "execution_count": 50,
   "metadata": {},
   "outputs": [
    {
     "name": "stdout",
     "output_type": "stream",
     "text": [
      "Number of brushing shop id = 276\n",
      "Number of non brushing shop id = 18494\n"
     ]
    }
   ],
   "source": [
    "number_brushing_shop_ids = len(result_df[result_df['userid'] != '0'])\n",
    "number_non_brushing_shop_ids = len(result_df[~(result_df['userid'] != '0')])\n",
    "\n",
    "print('Number of brushing shop id =', number_brushing_shop_ids)\n",
    "print('Number of non brushing shop id =', number_non_brushing_shop_ids)"
   ]
  },
  {
   "cell_type": "code",
   "execution_count": 52,
   "metadata": {},
   "outputs": [
    {
     "name": "stdout",
     "output_type": "stream",
     "text": [
      "Number of brushing user on single shop = 7\n",
      "Number of brushing use on multiple shop = 269\n"
     ]
    }
   ],
   "source": [
    "brushing_user_with_single_shop = len(result_df[(result_df['userid'] != \n",
    "                                              '0') & (result_df['userid'].str.contains('&'))])\n",
    "brushing_user_with_multiple_shop = len(result_df[(result_df['userid'] != '0') & ~(result_df['userid'].str.contains('&'))])\n",
    "\n",
    "print('Number of brushing user on single shop =',brushing_user_with_single_shop)\n",
    "print('Number of brushing use on multiple shop =',brushing_user_with_multiple_shop)"
   ]
  },
  {
   "cell_type": "code",
   "execution_count": 54,
   "metadata": {},
   "outputs": [
    {
     "data": {
      "text/html": [
       "<div>\n",
       "<style scoped>\n",
       "    .dataframe tbody tr th:only-of-type {\n",
       "        vertical-align: middle;\n",
       "    }\n",
       "\n",
       "    .dataframe tbody tr th {\n",
       "        vertical-align: top;\n",
       "    }\n",
       "\n",
       "    .dataframe thead th {\n",
       "        text-align: right;\n",
       "    }\n",
       "</style>\n",
       "<table border=\"1\" class=\"dataframe\">\n",
       "  <thead>\n",
       "    <tr style=\"text-align: right;\">\n",
       "      <th></th>\n",
       "      <th>shopid</th>\n",
       "      <th>userid</th>\n",
       "    </tr>\n",
       "  </thead>\n",
       "  <tbody>\n",
       "    <tr>\n",
       "      <td>0</td>\n",
       "      <td>10009</td>\n",
       "      <td>0</td>\n",
       "    </tr>\n",
       "    <tr>\n",
       "      <td>1</td>\n",
       "      <td>10051</td>\n",
       "      <td>0</td>\n",
       "    </tr>\n",
       "    <tr>\n",
       "      <td>2</td>\n",
       "      <td>10061</td>\n",
       "      <td>0</td>\n",
       "    </tr>\n",
       "    <tr>\n",
       "      <td>3</td>\n",
       "      <td>10084</td>\n",
       "      <td>0</td>\n",
       "    </tr>\n",
       "    <tr>\n",
       "      <td>4</td>\n",
       "      <td>10100</td>\n",
       "      <td>0</td>\n",
       "    </tr>\n",
       "    <tr>\n",
       "      <td>...</td>\n",
       "      <td>...</td>\n",
       "      <td>...</td>\n",
       "    </tr>\n",
       "    <tr>\n",
       "      <td>18765</td>\n",
       "      <td>214662358</td>\n",
       "      <td>0</td>\n",
       "    </tr>\n",
       "    <tr>\n",
       "      <td>18766</td>\n",
       "      <td>214949521</td>\n",
       "      <td>0</td>\n",
       "    </tr>\n",
       "    <tr>\n",
       "      <td>18767</td>\n",
       "      <td>214964814</td>\n",
       "      <td>0</td>\n",
       "    </tr>\n",
       "    <tr>\n",
       "      <td>18768</td>\n",
       "      <td>215175775</td>\n",
       "      <td>0</td>\n",
       "    </tr>\n",
       "    <tr>\n",
       "      <td>18769</td>\n",
       "      <td>215435223</td>\n",
       "      <td>0</td>\n",
       "    </tr>\n",
       "  </tbody>\n",
       "</table>\n",
       "<p>18770 rows × 2 columns</p>\n",
       "</div>"
      ],
      "text/plain": [
       "          shopid userid\n",
       "0          10009      0\n",
       "1          10051      0\n",
       "2          10061      0\n",
       "3          10084      0\n",
       "4          10100      0\n",
       "...          ...    ...\n",
       "18765  214662358      0\n",
       "18766  214949521      0\n",
       "18767  214964814      0\n",
       "18768  215175775      0\n",
       "18769  215435223      0\n",
       "\n",
       "[18770 rows x 2 columns]"
      ]
     },
     "execution_count": 54,
     "metadata": {},
     "output_type": "execute_result"
    }
   ],
   "source": [
    "result_df"
   ]
  },
  {
   "cell_type": "code",
   "execution_count": 55,
   "metadata": {},
   "outputs": [],
   "source": [
    "result_df.to_csv('submission.csv', index = False)"
   ]
  },
  {
   "cell_type": "code",
   "execution_count": null,
   "metadata": {},
   "outputs": [],
   "source": []
  }
 ],
 "metadata": {
  "kernelspec": {
   "display_name": "Python 3",
   "language": "python",
   "name": "python3"
  },
  "language_info": {
   "codemirror_mode": {
    "name": "ipython",
    "version": 3
   },
   "file_extension": ".py",
   "mimetype": "text/x-python",
   "name": "python",
   "nbconvert_exporter": "python",
   "pygments_lexer": "ipython3",
   "version": "3.7.4"
  }
 },
 "nbformat": 4,
 "nbformat_minor": 2
}
